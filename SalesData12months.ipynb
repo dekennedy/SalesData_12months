{
  "nbformat": 4,
  "nbformat_minor": 2,
  "metadata": {
    "colab": {
      "name": "SalesData12months.ipynb",
      "provenance": [],
      "authorship_tag": "ABX9TyNF0gZuO0ncDhw4kB8Bbd2y",
      "include_colab_link": true
    },
    "kernelspec": {
      "name": "python3",
      "display_name": "Python 3"
    }
  },
  "cells": [
    {
      "cell_type": "markdown",
      "source": [
        "<a href=\"https://colab.research.google.com/github/dekennedy/SalesData_12months/blob/main/SalesData12months.ipynb\" target=\"_parent\"><img src=\"https://colab.research.google.com/assets/colab-badge.svg\" alt=\"Open In Colab\"/></a>"
      ],
      "metadata": {
        "id": "view-in-github",
        "colab_type": "text"
      }
    },
    {
      "cell_type": "markdown",
      "source": [
        "First we import the different libraries well need to do out analysis.\n",
        "\n",
        "\n"
      ],
      "metadata": {
        "id": "DeoNA2kYL07v"
      }
    },
    {
      "cell_type": "code",
      "execution_count": 1,
      "source": [
        "import pandas as pd\n",
        "import numpy as np\n",
        "import matplotlib.pyplot as plt\n"
      ],
      "outputs": [],
      "metadata": {
        "id": "nF8J-1lQLgpj"
      }
    },
    {
      "cell_type": "markdown",
      "source": [
        "Next I'lll Import the data into a Pandas Data Frame.\n",
        "\n",
        "There are 12 files. One for each month, so I'll need to look over ths function to combine all of the data."
      ],
      "metadata": {
        "id": "-LzyQ7wRLyfT"
      }
    },
    {
      "cell_type": "code",
      "execution_count": null,
      "source": [
        "path = ('my path here')\n",
        "\n",
        "for f in file\n",
        "\n",
        "df = pd.read_csv(path)[skiprows = 0]\n",
        "df_combine = df_combine.append(df)\n",
        "\n",
        "\n",
        "\n",
        "\n"
      ],
      "outputs": [],
      "metadata": {
        "id": "Il_dY6SSLtuF"
      }
    },
    {
      "cell_type": "markdown",
      "source": [],
      "metadata": {
        "id": "UMgbdnFuLxp_"
      }
    }
  ]
}