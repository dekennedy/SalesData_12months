{
  "nbformat": 4,
  "nbformat_minor": 0,
  "metadata": {
    "colab": {
      "name": "SalesData12months.ipynb",
      "provenance": [],
      "authorship_tag": "ABX9TyNF0gZuO0ncDhw4kB8Bbd2y",
      "include_colab_link": true
    },
    "kernelspec": {
      "name": "python3",
      "display_name": "Python 3"
    }
  },
  "cells": [
    {
      "cell_type": "markdown",
      "metadata": {
        "id": "view-in-github",
        "colab_type": "text"
      },
      "source": [
        "<a href=\"https://colab.research.google.com/github/dekennedy/SalesData_12months/blob/main/SalesData12months.ipynb\" target=\"_parent\"><img src=\"https://colab.research.google.com/assets/colab-badge.svg\" alt=\"Open In Colab\"/></a>"
      ]
    },
    {
      "cell_type": "markdown",
      "metadata": {
        "id": "DeoNA2kYL07v"
      },
      "source": [
        "First we import the different libraries well need to do out analysis.\n",
        "\n",
        "\n"
      ]
    },
    {
      "cell_type": "code",
      "metadata": {
        "id": "nF8J-1lQLgpj"
      },
      "source": [
        "import pandas as pd\n",
        "import numpy as np\n",
        "import matplotlib.pyplot as plt\n"
      ],
      "execution_count": 1,
      "outputs": []
    },
    {
      "cell_type": "markdown",
      "metadata": {
        "id": "-LzyQ7wRLyfT"
      },
      "source": [
        "Next I'lll Import the data into a Pandas Data Frame.\n",
        "\n",
        "There are 12 files. One for each month, so I'll need to look over ths function to combine all of the data."
      ]
    },
    {
      "cell_type": "code",
      "metadata": {
        "id": "Il_dY6SSLtuF"
      },
      "source": [
        "df = pd.read_cvs('my path here')\n",
        "\n",
        "for file in files \n",
        "\n",
        "#remove the headers from all but the fist file to keep the data clean.\n",
        "\n",
        "appends data ( skip rows 0)\n",
        "\n",
        "\n",
        "\n",
        "\n",
        "\n"
      ],
      "execution_count": null,
      "outputs": []
    },
    {
      "cell_type": "markdown",
      "metadata": {
        "id": "UMgbdnFuLxp_"
      },
      "source": [
        ""
      ]
    }
  ]
}